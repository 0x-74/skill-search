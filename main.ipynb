{
 "cells": [
  {
   "cell_type": "code",
   "execution_count": null,
   "id": "2539c22e",
   "metadata": {},
   "outputs": [],
   "source": [
    "from login import login\n",
    "from selenium import webdriver\n",
    "from selenium.webdriver.common.by import By\n",
    "from selenium.webdriver.support import expected_conditions as EC\n",
    "from selenium.webdriver.support.ui import WebDriverWait\n",
    "import time\n",
    "import os\n",
    "from dotenv import load_dotenv\n",
    "from selenium.common.exceptions import NoSuchElementException"
   ]
  },
  {
   "cell_type": "code",
   "execution_count": 2,
   "id": "ceb943b8",
   "metadata": {},
   "outputs": [
    {
     "data": {
      "text/plain": [
       "True"
      ]
     },
     "execution_count": 2,
     "metadata": {},
     "output_type": "execute_result"
    }
   ],
   "source": [
    "load_dotenv()"
   ]
  },
  {
   "cell_type": "code",
   "execution_count": null,
   "id": "1995a8ba",
   "metadata": {},
   "outputs": [],
   "source": [
    "\n",
    "def get_job_cards(uri : str,driver):\n",
    "    driver.get(uri)\n",
    "    time.sleep(2)\n",
    "    scrollable_element = driver.execute_script('''\n",
    "            function isVerticallyScrollable(element) {\n",
    "                const style = window.getComputedStyle(element);\n",
    "                const overflowY = style.overflowY;\n",
    "                const overflowX = style.overflowX;\n",
    "\n",
    "                // vertical scroll must be auto or scroll\n",
    "                const verticalScroll = (overflowY === 'auto' || overflowY === 'scroll');\n",
    "\n",
    "                // horizontal scroll must NOT be scroll or auto (hidden or visible is OK)\n",
    "                const horizontalBlocked = !(overflowX === 'auto' || overflowX === 'scroll');\n",
    "\n",
    "                // vertical scrollable content\n",
    "                const canScrollVertically = element.scrollHeight > element.clientHeight;\n",
    "\n",
    "                return verticalScroll && horizontalBlocked && canScrollVertically;\n",
    "            }\n",
    "\n",
    "            let allElements = Array.from(document.querySelectorAll('*'));\n",
    "            return allElements.filter(el => isVerticallyScrollable(el));\n",
    "        ''')\n",
    "    scrollable_element = scrollable_element[0]\n",
    "\n",
    "    element_id = scrollable_element.get_attribute(\"id\")\n",
    "    outer_html = scrollable_element.get_attribute(\"outerHTML\")\n",
    "    print(\"Element ID:\", element_id)\n",
    "    print(\"Outer HTML:\", outer_html)\n",
    "    time.sleep(2)\n",
    "    driver.execute_script(\"arguments[0].scrollTop = arguments[0].scrollHeight / 4\", scrollable_element)\n",
    "    print('scrolling')\n",
    "    time.sleep(1)\n",
    "    driver.execute_script(\"arguments[0].scrollTop = arguments[0].scrollHeight / 2.2\", scrollable_element)\n",
    "    time.sleep(1)\n",
    "    driver.execute_script(\"arguments[0].scrollTop = arguments[0].scrollHeight / 2\", scrollable_element)\n",
    "    time.sleep(1)\n",
    "    driver.execute_script(\"arguments[0].scrollTop = arguments[0].scrollHeight / 1.6\" , scrollable_element)\n",
    "    time.sleep(1)\n",
    "    driver.execute_script(\"arguments[0].scrollTop = arguments[0].scrollHeight / 1.1\", scrollable_element)\n",
    "    time.sleep(1)\n",
    "    job_cards = wait.until(EC.presence_of_all_elements_located((By.CSS_SELECTOR, \"div.job-card-container[data-job-id]\")))\n",
    "    return job_cards"
   ]
  },
  {
   "cell_type": "code",
   "execution_count": null,
   "id": "456085fc",
   "metadata": {},
   "outputs": [],
   "source": [
    "def get_job_descriptions(job_cards, driver):\n",
    "    descriptions = []\n",
    "    for card in job_cards:\n",
    "        driver.execute_script(\"arguments[0].scrollIntoView();\", card)\n",
    "        card.click()\n",
    "        job_desc_element = driver.find_element(By.CLASS_NAME,'jobs-search__job-details--wrapper')\n",
    "        descriptions.append(job_desc_element.text)\n",
    "    return descriptions\n",
    "        "
   ]
  },
  {
   "cell_type": "code",
   "execution_count": null,
   "id": "8bbde163",
   "metadata": {},
   "outputs": [],
   "source": [
    "driver = webdriver.Chrome()\n",
    "email = os.getenv('EMAIL')\n",
    "password = os.getenv('PASSWORD')\n",
    "try:\n",
    "    login(driver, email, password)\n",
    "    job_cards = get_job_cards(\"https://www.linkedin.com/jobs/search/?distance=25&f_PP=106442238%2C104793846&f_WT=3&geoId=102713980&keywords=Engineer&origin=JOB_SEARCH_PAGE_JOB_FILTER&refresh=true\",driver)\n",
    "    print(f\"Found {len(job_cards)} jobs\")\n",
    "    # Extract data from each job card\n",
    "    for idx, card in enumerate(job_cards, 1):\n",
    "        try:\n",
    "            print(f\"Parsing job card #{idx}...\")\n",
    "            print(card.text)\n",
    "        except Exception as e:\n",
    "            print(f\"Failed to parse job card #{idx}: {e}\")\n",
    "\n",
    "\n",
    "finally:\n",
    "    print(\"Closing browser...\")\n",
    "    # driver.close()"
   ]
  },
  {
   "cell_type": "code",
   "execution_count": 66,
   "id": "8b2c7eb4",
   "metadata": {},
   "outputs": [
    {
     "data": {
      "text/plain": [
       "True"
      ]
     },
     "execution_count": 66,
     "metadata": {},
     "output_type": "execute_result"
    }
   ],
   "source": [
    "job_cards[1].is_displayed()"
   ]
  },
  {
   "cell_type": "code",
   "execution_count": 73,
   "id": "6f55cbef",
   "metadata": {},
   "outputs": [],
   "source": [
    "driver.execute_script(\"arguments[0].scrollIntoView();\", job_cards[0])"
   ]
  },
  {
   "cell_type": "code",
   "execution_count": 76,
   "id": "0fa02a3e",
   "metadata": {},
   "outputs": [],
   "source": [
    "test = driver.find_element(By.CLASS_NAME,'jobs-search__job-details--wrapper')"
   ]
  },
  {
   "cell_type": "code",
   "execution_count": 77,
   "id": "84da650d",
   "metadata": {},
   "outputs": [
    {
     "data": {
      "text/plain": [
       "'Tower Research Capital\\nShare\\nShow more options\\nSoftware Engineer I \\nGurgaon, Haryana, India · Reposted 2 weeks ago · Over 100 people clicked apply\\nPromoted by hirer · Responses managed off LinkedIn\\nHybrid\\nApply\\nSave\\nSave Software Engineer I  at Tower Research Capital\\nUpdate your profile to assess your job match\\nUpdate profile\\nGet personalized tips to stand out to hirers\\nFind jobs where you’re a top applicant and tailor your resume with the help of AI.\\nTry Premium for ₹0\\nAbout the job\\nTower Research Capital is a leading quantitative trading firm founded in 1998. Tower has built its business on a high-performance platform and independent trading teams. We have a 25+ year track record of innovation and a reputation for discovering unique market opportunities.\\n\\nTower is home to some of the world’s best systematic trading and engineering talent. We empower portfolio managers to build their teams and strategies independently while providing the economies of scale that come from a large, global organization.\\n\\nEngineers thrive at Tower while developing electronic trading infrastructure at a world class level. Our engineers solve challenging problems in the realms of low-latency programming, FPGA technology, hardware acceleration and machine learning. Our ongoing investment in top engineering talent and technology ensures our platform remains unmatched in terms of functionality, scalability and performance.\\n\\nAt Tower, every employee plays a role in our success. Our Business Support teams are essential to building and maintaining the platform that powers everything we do — combining market access, data, compute, and research infrastructure with risk management, compliance, and a full suite of business services. Our Business Support teams enable our trading and engineering teams to perform at their best.\\n\\nAt Tower, employees will find a stimulating, results-oriented environment where highly intelligent and motivated colleagues inspire each other to reach their greatest potential.\\n\\nResponsibilities:\\n\\nDeveloping the firm’s Post Trade Platform tools - including reference data management, trade capture, reconciliation, P&L, trade cost management, surveillance, compliance and regulatory functions.\\nWorking with appropriate stakeholders to determine user requirements for a set of features.\\nWorking in collaboration with teams across the organization to develop reliable, scalable, and high-performance, software designs.\\nResponsible for technological innovation in build-out of the new generation of middle office and back-office applications and processes.\\n\\nQualifications:\\n\\nA bachelor’s degree or equivalent in computer science from a top college or university.\\n0-3 years of relevant experience.\\nGood problem-solving skills.\\nKnowledge of Python and Java, shell scripts and linux system\\nKnowledge of SQL (i.e. MySQL, PostGres) and NoSQL (i.e. MongoDB, ElasticSearch) databases are highly desirable.\\nPast role(s) within electronic trading and a thorough understanding of financial instruments including equities, commodities, credit, interest rates, foreign exchange, cryptocurrencies, futures, forwards, and options will be a plus\\nStrong communication skills and fluent in English\\n\\nBenefits:\\n\\nTower’s headquarters are in the historic Equitable Building, right in the heart of NYC’s Financial District and our impact is global, with over a dozen offices around the world.\\n\\nAt Tower, we believe work should be both challenging and enjoyable. That is why we foster a culture where smart, driven people thrive – without the egos. Our open concept workplace, casual dress code, and well-stocked kitchens reflect the value we place on a friendly, collaborative environment where everyone is respected, and great ideas win.\\n\\nOur benefits include:\\n\\nGenerous paid time off policies\\nSavings plans and other financial wellness tools available in each region\\nHybrid working opportunities\\nFree breakfast, lunch and snacks daily \\nIn-office wellness experiences and reimbursement for select wellness expenses (e.g., gym, personal training and more) \\nVolunteer opportunities and charitable giving \\nSocial events, happy hours, treats and celebrations throughout the year\\nWorkshops and continuous learning opportunities\\n\\nAt Tower, you’ll find a collaborative and welcoming culture, a diverse team and a workplace that values both performance and enjoyment. No unnecessary hierarchy. No ego. Just great people doing great work – together.\\n\\nTower Research Capital is an equal opportunity employer.\\nUnlock hiring insights on Tower Research Capital\\n6%\\n6\\nEmployee growth\\nChart\\nMay 2024\\nNov 2024\\nMay 2025\\nEnd of interactive chart.\\nApplicant education level\\n69%\\nhave a Bachelor of Technology\\nApplicant seniority level\\n72%\\nEntry level applicants\\nTry Premium for ₹0\\n1-month free with 24/7 support. Cancel anytime. We’ll remind you 7 days before your trial ends.\\nAbout the company\\nTower Research Capital\\n171,988 followers\\nFollow\\nFinancial Services 1,001-5,000 employees 1,252 on LinkedIn\\nTower Research Capital is a leading quantitative trading firm that has built its business on a high-performance platform and independent trading teams. We have a 25-year track record of innovation and a reputation for discovering unique market opportunities. At Tower, employees find a stimulating, results-oriented environment where highly intelligent and motivated colleagues inspire each other to reach their greatest potential. Tower is headquartered in New York City and employs approximately 1,200 people in more than a dozen offices globally. To learn more, visit www.tower-research.com\\n…\\nshow more\\nInterested in working with us in the future?\\nMembers who share that they’re interested in a company may be 2x as likely to get a message from a recruiter than those who don’t. Learn more\\nLearn more about Interested in working for our company\\nI’m interested\\nCompany photos\\nPage 1 of 4\\nPrevious\\nNext\\nShow more'"
      ]
     },
     "execution_count": 77,
     "metadata": {},
     "output_type": "execute_result"
    }
   ],
   "source": [
    "test.text"
   ]
  },
  {
   "cell_type": "code",
   "execution_count": 80,
   "id": "c14516e4",
   "metadata": {},
   "outputs": [],
   "source": [
    "from pprint import pprint"
   ]
  },
  {
   "cell_type": "code",
   "execution_count": 81,
   "id": "cc3fa772",
   "metadata": {},
   "outputs": [
    {
     "name": "stdout",
     "output_type": "stream",
     "text": [
      "('Tower Research Capital\\n'\n",
      " 'Share\\n'\n",
      " 'Show more options\\n'\n",
      " 'Software Engineer I \\n'\n",
      " 'Gurgaon, Haryana, India · Reposted 2 weeks ago · Over 100 people clicked '\n",
      " 'apply\\n'\n",
      " 'Promoted by hirer · Responses managed off LinkedIn\\n'\n",
      " 'Hybrid\\n'\n",
      " 'Apply\\n'\n",
      " 'Save\\n'\n",
      " 'Save Software Engineer I  at Tower Research Capital\\n'\n",
      " 'Software Engineer I\\n'\n",
      " 'Tower Research Capital · Gurgaon, Haryana, India (Hybrid)\\n'\n",
      " 'Apply\\n'\n",
      " 'Save\\n'\n",
      " 'Save Software Engineer I  at Tower Research Capital\\n'\n",
      " 'Show more options\\n'\n",
      " 'Update your profile to assess your job match\\n'\n",
      " 'Update profile\\n'\n",
      " 'Get personalized tips to stand out to hirers\\n'\n",
      " 'Find jobs where you’re a top applicant and tailor your resume with the help '\n",
      " 'of AI.\\n'\n",
      " 'Try Premium for ₹0\\n'\n",
      " 'About the job\\n'\n",
      " 'Tower Research Capital is a leading quantitative trading firm founded in '\n",
      " '1998. Tower has built its business on a high-performance platform and '\n",
      " 'independent trading teams. We have a 25+ year track record of innovation and '\n",
      " 'a reputation for discovering unique market opportunities.\\n'\n",
      " '\\n'\n",
      " 'Tower is home to some of the world’s best systematic trading and engineering '\n",
      " 'talent. We empower portfolio managers to build their teams and strategies '\n",
      " 'independently while providing the economies of scale that come from a large, '\n",
      " 'global organization.\\n'\n",
      " '\\n'\n",
      " 'Engineers thrive at Tower while developing electronic trading infrastructure '\n",
      " 'at a world class level. Our engineers solve challenging problems in the '\n",
      " 'realms of low-latency programming, FPGA technology, hardware acceleration '\n",
      " 'and machine learning. Our ongoing investment in top engineering talent and '\n",
      " 'technology ensures our platform remains unmatched in terms of functionality, '\n",
      " 'scalability and performance.\\n'\n",
      " '\\n'\n",
      " 'At Tower, every employee plays a role in our success. Our Business Support '\n",
      " 'teams are essential to building and maintaining the platform that powers '\n",
      " 'everything we do — combining market access, data, compute, and research '\n",
      " 'infrastructure with risk management, compliance, and a full suite of '\n",
      " 'business services. Our Business Support teams enable our trading and '\n",
      " 'engineering teams to perform at their best.\\n'\n",
      " '\\n'\n",
      " 'At Tower, employees will find a stimulating, results-oriented environment '\n",
      " 'where highly intelligent and motivated colleagues inspire each other to '\n",
      " 'reach their greatest potential.\\n'\n",
      " '\\n'\n",
      " 'Responsibilities:\\n'\n",
      " '\\n'\n",
      " 'Developing the firm’s Post Trade Platform tools - including reference data '\n",
      " 'management, trade capture, reconciliation, P&L, trade cost management, '\n",
      " 'surveillance, compliance and regulatory functions.\\n'\n",
      " 'Working with appropriate stakeholders to determine user requirements for a '\n",
      " 'set of features.\\n'\n",
      " 'Working in collaboration with teams across the organization to develop '\n",
      " 'reliable, scalable, and high-performance, software designs.\\n'\n",
      " 'Responsible for technological innovation in build-out of the new generation '\n",
      " 'of middle office and back-office applications and processes.\\n'\n",
      " '\\n'\n",
      " 'Qualifications:\\n'\n",
      " '\\n'\n",
      " 'A bachelor’s degree or equivalent in computer science from a top college or '\n",
      " 'university.\\n'\n",
      " '0-3 years of relevant experience.\\n'\n",
      " 'Good problem-solving skills.\\n'\n",
      " 'Knowledge of Python and Java, shell scripts and linux system\\n'\n",
      " 'Knowledge of SQL (i.e. MySQL, PostGres) and NoSQL (i.e. MongoDB, '\n",
      " 'ElasticSearch) databases are highly desirable.\\n'\n",
      " 'Past role(s) within electronic trading and a thorough understanding of '\n",
      " 'financial instruments including equities, commodities, credit, interest '\n",
      " 'rates, foreign exchange, cryptocurrencies, futures, forwards, and options '\n",
      " 'will be a plus\\n'\n",
      " 'Strong communication skills and fluent in English\\n'\n",
      " '\\n'\n",
      " 'Benefits:\\n'\n",
      " '\\n'\n",
      " 'Tower’s headquarters are in the historic Equitable Building, right in the '\n",
      " 'heart of NYC’s Financial District and our impact is global, with over a '\n",
      " 'dozen offices around the world.\\n'\n",
      " '\\n'\n",
      " 'At Tower, we believe work should be both challenging and enjoyable. That is '\n",
      " 'why we foster a culture where smart, driven people thrive – without the '\n",
      " 'egos. Our open concept workplace, casual dress code, and well-stocked '\n",
      " 'kitchens reflect the value we place on a friendly, collaborative environment '\n",
      " 'where everyone is respected, and great ideas win.\\n'\n",
      " '\\n'\n",
      " 'Our benefits include:\\n'\n",
      " '\\n'\n",
      " 'Generous paid time off policies\\n'\n",
      " 'Savings plans and other financial wellness tools available in each region\\n'\n",
      " 'Hybrid working opportunities\\n'\n",
      " 'Free breakfast, lunch and snacks daily \\n'\n",
      " 'In-office wellness experiences and reimbursement for select wellness '\n",
      " 'expenses (e.g., gym, personal training and more) \\n'\n",
      " 'Volunteer opportunities and charitable giving \\n'\n",
      " 'Social events, happy hours, treats and celebrations throughout the year\\n'\n",
      " 'Workshops and continuous learning opportunities\\n'\n",
      " '\\n'\n",
      " 'At Tower, you’ll find a collaborative and welcoming culture, a diverse team '\n",
      " 'and a workplace that values both performance and enjoyment. No unnecessary '\n",
      " 'hierarchy. No ego. Just great people doing great work – together.\\n'\n",
      " '\\n'\n",
      " 'Tower Research Capital is an equal opportunity employer.\\n'\n",
      " 'Unlock hiring insights on Tower Research Capital\\n'\n",
      " '6%\\n'\n",
      " '6\\n'\n",
      " 'Employee growth\\n'\n",
      " 'Chart\\n'\n",
      " 'May 2024\\n'\n",
      " 'Nov 2024\\n'\n",
      " 'May 2025\\n'\n",
      " 'End of interactive chart.\\n'\n",
      " 'Applicant education level\\n'\n",
      " '69%\\n'\n",
      " 'have a Bachelor of Technology\\n'\n",
      " 'Applicant seniority level\\n'\n",
      " '72%\\n'\n",
      " 'Entry level applicants\\n'\n",
      " 'Try Premium for ₹0\\n'\n",
      " '1-month free with 24/7 support. Cancel anytime. We’ll remind you 7 days '\n",
      " 'before your trial ends.\\n'\n",
      " 'About the company\\n'\n",
      " 'Tower Research Capital\\n'\n",
      " '171,988 followers\\n'\n",
      " 'Follow\\n'\n",
      " 'Financial Services 1,001-5,000 employees 1,252 on LinkedIn\\n'\n",
      " 'Tower Research Capital is a leading quantitative trading firm that has built '\n",
      " 'its business on a high-performance platform and independent trading teams. '\n",
      " 'We have a 25-year track record of innovation and a reputation for '\n",
      " 'discovering unique market opportunities. At Tower, employees find a '\n",
      " 'stimulating, results-oriented environment where highly intelligent and '\n",
      " 'motivated colleagues inspire each other to reach their greatest potential. '\n",
      " 'Tower is headquartered in New York City and employs approximately 1,200 '\n",
      " 'people in more than a dozen offices globally. To learn more, visit '\n",
      " 'www.tower-research.com\\n'\n",
      " '…\\n'\n",
      " 'show more\\n'\n",
      " 'Interested in working with us in the future?\\n'\n",
      " 'Members who share that they’re interested in a company may be 2x as likely '\n",
      " 'to get a message from a recruiter than those who don’t. Learn more\\n'\n",
      " 'Learn more about Interested in working for our company\\n'\n",
      " 'I’m interested\\n'\n",
      " 'Company photos\\n'\n",
      " 'Page 1 of 4\\n'\n",
      " 'Previous\\n'\n",
      " 'Next\\n'\n",
      " 'Show more')\n"
     ]
    }
   ],
   "source": [
    "pprint(test.text)"
   ]
  },
  {
   "cell_type": "code",
   "execution_count": 93,
   "id": "973663b7",
   "metadata": {},
   "outputs": [],
   "source": [
    "pages = driver.find_elements(By.CLASS_NAME,'jobs-search-pagination__indicator')"
   ]
  },
  {
   "cell_type": "code",
   "execution_count": 94,
   "id": "4a5da9c2",
   "metadata": {},
   "outputs": [],
   "source": [
    "test_2 = {page.text : page for page in pages}"
   ]
  },
  {
   "cell_type": "code",
   "execution_count": 92,
   "id": "24916b30",
   "metadata": {},
   "outputs": [
    {
     "data": {
      "text/plain": [
       "{'1': <selenium.webdriver.remote.webelement.WebElement (session=\"6b8689ff4871e53696458cc991ab610e\", element=\"f.FE50842DD876A6441E832C26D6D7C0DC.d.6D4BB8BB9AE5E3EC42378EDE1C57F3B5.e.19013\")>,\n",
       " '2': <selenium.webdriver.remote.webelement.WebElement (session=\"6b8689ff4871e53696458cc991ab610e\", element=\"f.FE50842DD876A6441E832C26D6D7C0DC.d.6D4BB8BB9AE5E3EC42378EDE1C57F3B5.e.19014\")>,\n",
       " '3': <selenium.webdriver.remote.webelement.WebElement (session=\"6b8689ff4871e53696458cc991ab610e\", element=\"f.FE50842DD876A6441E832C26D6D7C0DC.d.6D4BB8BB9AE5E3EC42378EDE1C57F3B5.e.14755\")>,\n",
       " '…': <selenium.webdriver.remote.webelement.WebElement (session=\"6b8689ff4871e53696458cc991ab610e\", element=\"f.FE50842DD876A6441E832C26D6D7C0DC.d.6D4BB8BB9AE5E3EC42378EDE1C57F3B5.e.14759\")>}"
      ]
     },
     "execution_count": 92,
     "metadata": {},
     "output_type": "execute_result"
    }
   ],
   "source": [
    "test"
   ]
  },
  {
   "cell_type": "code",
   "execution_count": null,
   "id": "68d0b9bd",
   "metadata": {},
   "outputs": [
    {
     "ename": "NoSuchElementException",
     "evalue": "Message: no such element: Unable to locate element: {\"method\":\"css selector\",\"selector\":\"button[aria-label=\"View next page\"]\"}\n  (Session info: chrome=136.0.7103.114); For documentation on this error, please visit: https://www.selenium.dev/documentation/webdriver/troubleshooting/errors#no-such-element-exception\nStacktrace:\n\tGetHandleVerifier [0x00007FF7436BCF45+75717]\n\tGetHandleVerifier [0x00007FF7436BCFA0+75808]\n\t(No symbol) [0x00007FF743488F9A]\n\t(No symbol) [0x00007FF7434DF4C6]\n\t(No symbol) [0x00007FF7434DF77C]\n\t(No symbol) [0x00007FF743532577]\n\t(No symbol) [0x00007FF7435073BF]\n\t(No symbol) [0x00007FF74352F39C]\n\t(No symbol) [0x00007FF743507153]\n\t(No symbol) [0x00007FF7434D0421]\n\t(No symbol) [0x00007FF7434D11B3]\n\tGetHandleVerifier [0x00007FF7439BD71D+3223453]\n\tGetHandleVerifier [0x00007FF7439B7CC2+3200322]\n\tGetHandleVerifier [0x00007FF7439D5AF3+3322739]\n\tGetHandleVerifier [0x00007FF7436D6A1A+180890]\n\tGetHandleVerifier [0x00007FF7436DE11F+211359]\n\tGetHandleVerifier [0x00007FF7436C5294+109332]\n\tGetHandleVerifier [0x00007FF7436C5442+109762]\n\tGetHandleVerifier [0x00007FF7436ABA59+4825]\n\tBaseThreadInitThunk [0x00007FFE0BA3257D+29]\n\tRtlUserThreadStart [0x00007FFE0D62AF08+40]\n",
     "output_type": "error",
     "traceback": [
      "\u001b[31m---------------------------------------------------------------------------\u001b[39m",
      "\u001b[31mNoSuchElementException\u001b[39m                    Traceback (most recent call last)",
      "\u001b[36mCell\u001b[39m\u001b[36m \u001b[39m\u001b[32mIn[102]\u001b[39m\u001b[32m, line 2\u001b[39m\n\u001b[32m      1\u001b[39m wait = WebDriverWait(driver, \u001b[32m2\u001b[39m)  \u001b[38;5;66;03m# Increased wait time for slower connections\u001b[39;00m\n\u001b[32m----> \u001b[39m\u001b[32m2\u001b[39m button = \u001b[43mdriver\u001b[49m\u001b[43m.\u001b[49m\u001b[43mfind_element\u001b[49m\u001b[43m(\u001b[49m\u001b[43mBy\u001b[49m\u001b[43m.\u001b[49m\u001b[43mCSS_SELECTOR\u001b[49m\u001b[43m,\u001b[49m\u001b[43m \u001b[49m\u001b[33;43m'\u001b[39;49m\u001b[33;43mbutton[aria-label=\u001b[39;49m\u001b[33;43m\"\u001b[39;49m\u001b[33;43mView next page\u001b[39;49m\u001b[33;43m\"\u001b[39;49m\u001b[33;43m]\u001b[39;49m\u001b[33;43m'\u001b[39;49m\u001b[43m)\u001b[49m\n\u001b[32m      3\u001b[39m driver.execute_script(\u001b[33m\"\u001b[39m\u001b[33marguments[0].scrollIntoView(\u001b[39m\u001b[33m{\u001b[39m\u001b[33mblock: \u001b[39m\u001b[33m'\u001b[39m\u001b[33mcenter\u001b[39m\u001b[33m'\u001b[39m\u001b[33m});\u001b[39m\u001b[33m\"\u001b[39m, button)\n\u001b[32m      4\u001b[39m \u001b[38;5;28;01mif\u001b[39;00m button:\n",
      "\u001b[36mFile \u001b[39m\u001b[32mc:\\Users\\avira\\OneDrive\\Desktop\\repositories\\skill-search\\.venv\\Lib\\site-packages\\selenium\\webdriver\\remote\\webdriver.py:914\u001b[39m, in \u001b[36mWebDriver.find_element\u001b[39m\u001b[34m(self, by, value)\u001b[39m\n\u001b[32m    911\u001b[39m         \u001b[38;5;28;01mraise\u001b[39;00m NoSuchElementException(\u001b[33mf\u001b[39m\u001b[33m\"\u001b[39m\u001b[33mCannot locate relative element with: \u001b[39m\u001b[38;5;132;01m{\u001b[39;00mby.root\u001b[38;5;132;01m}\u001b[39;00m\u001b[33m\"\u001b[39m)\n\u001b[32m    912\u001b[39m     \u001b[38;5;28;01mreturn\u001b[39;00m elements[\u001b[32m0\u001b[39m]\n\u001b[32m--> \u001b[39m\u001b[32m914\u001b[39m \u001b[38;5;28;01mreturn\u001b[39;00m \u001b[38;5;28;43mself\u001b[39;49m\u001b[43m.\u001b[49m\u001b[43mexecute\u001b[49m\u001b[43m(\u001b[49m\u001b[43mCommand\u001b[49m\u001b[43m.\u001b[49m\u001b[43mFIND_ELEMENT\u001b[49m\u001b[43m,\u001b[49m\u001b[43m \u001b[49m\u001b[43m{\u001b[49m\u001b[33;43m\"\u001b[39;49m\u001b[33;43musing\u001b[39;49m\u001b[33;43m\"\u001b[39;49m\u001b[43m:\u001b[49m\u001b[43m \u001b[49m\u001b[43mby\u001b[49m\u001b[43m,\u001b[49m\u001b[43m \u001b[49m\u001b[33;43m\"\u001b[39;49m\u001b[33;43mvalue\u001b[39;49m\u001b[33;43m\"\u001b[39;49m\u001b[43m:\u001b[49m\u001b[43m \u001b[49m\u001b[43mvalue\u001b[49m\u001b[43m}\u001b[49m\u001b[43m)\u001b[49m[\u001b[33m\"\u001b[39m\u001b[33mvalue\u001b[39m\u001b[33m\"\u001b[39m]\n",
      "\u001b[36mFile \u001b[39m\u001b[32mc:\\Users\\avira\\OneDrive\\Desktop\\repositories\\skill-search\\.venv\\Lib\\site-packages\\selenium\\webdriver\\remote\\webdriver.py:447\u001b[39m, in \u001b[36mWebDriver.execute\u001b[39m\u001b[34m(self, driver_command, params)\u001b[39m\n\u001b[32m    445\u001b[39m response = \u001b[38;5;28mself\u001b[39m.command_executor.execute(driver_command, params)\n\u001b[32m    446\u001b[39m \u001b[38;5;28;01mif\u001b[39;00m response:\n\u001b[32m--> \u001b[39m\u001b[32m447\u001b[39m     \u001b[38;5;28;43mself\u001b[39;49m\u001b[43m.\u001b[49m\u001b[43merror_handler\u001b[49m\u001b[43m.\u001b[49m\u001b[43mcheck_response\u001b[49m\u001b[43m(\u001b[49m\u001b[43mresponse\u001b[49m\u001b[43m)\u001b[49m\n\u001b[32m    448\u001b[39m     response[\u001b[33m\"\u001b[39m\u001b[33mvalue\u001b[39m\u001b[33m\"\u001b[39m] = \u001b[38;5;28mself\u001b[39m._unwrap_value(response.get(\u001b[33m\"\u001b[39m\u001b[33mvalue\u001b[39m\u001b[33m\"\u001b[39m, \u001b[38;5;28;01mNone\u001b[39;00m))\n\u001b[32m    449\u001b[39m     \u001b[38;5;28;01mreturn\u001b[39;00m response\n",
      "\u001b[36mFile \u001b[39m\u001b[32mc:\\Users\\avira\\OneDrive\\Desktop\\repositories\\skill-search\\.venv\\Lib\\site-packages\\selenium\\webdriver\\remote\\errorhandler.py:232\u001b[39m, in \u001b[36mErrorHandler.check_response\u001b[39m\u001b[34m(self, response)\u001b[39m\n\u001b[32m    230\u001b[39m         alert_text = value[\u001b[33m\"\u001b[39m\u001b[33malert\u001b[39m\u001b[33m\"\u001b[39m].get(\u001b[33m\"\u001b[39m\u001b[33mtext\u001b[39m\u001b[33m\"\u001b[39m)\n\u001b[32m    231\u001b[39m     \u001b[38;5;28;01mraise\u001b[39;00m exception_class(message, screen, stacktrace, alert_text)  \u001b[38;5;66;03m# type: ignore[call-arg]  # mypy is not smart enough here\u001b[39;00m\n\u001b[32m--> \u001b[39m\u001b[32m232\u001b[39m \u001b[38;5;28;01mraise\u001b[39;00m exception_class(message, screen, stacktrace)\n",
      "\u001b[31mNoSuchElementException\u001b[39m: Message: no such element: Unable to locate element: {\"method\":\"css selector\",\"selector\":\"button[aria-label=\"View next page\"]\"}\n  (Session info: chrome=136.0.7103.114); For documentation on this error, please visit: https://www.selenium.dev/documentation/webdriver/troubleshooting/errors#no-such-element-exception\nStacktrace:\n\tGetHandleVerifier [0x00007FF7436BCF45+75717]\n\tGetHandleVerifier [0x00007FF7436BCFA0+75808]\n\t(No symbol) [0x00007FF743488F9A]\n\t(No symbol) [0x00007FF7434DF4C6]\n\t(No symbol) [0x00007FF7434DF77C]\n\t(No symbol) [0x00007FF743532577]\n\t(No symbol) [0x00007FF7435073BF]\n\t(No symbol) [0x00007FF74352F39C]\n\t(No symbol) [0x00007FF743507153]\n\t(No symbol) [0x00007FF7434D0421]\n\t(No symbol) [0x00007FF7434D11B3]\n\tGetHandleVerifier [0x00007FF7439BD71D+3223453]\n\tGetHandleVerifier [0x00007FF7439B7CC2+3200322]\n\tGetHandleVerifier [0x00007FF7439D5AF3+3322739]\n\tGetHandleVerifier [0x00007FF7436D6A1A+180890]\n\tGetHandleVerifier [0x00007FF7436DE11F+211359]\n\tGetHandleVerifier [0x00007FF7436C5294+109332]\n\tGetHandleVerifier [0x00007FF7436C5442+109762]\n\tGetHandleVerifier [0x00007FF7436ABA59+4825]\n\tBaseThreadInitThunk [0x00007FFE0BA3257D+29]\n\tRtlUserThreadStart [0x00007FFE0D62AF08+40]\n"
     ]
    }
   ],
   "source": []
  },
  {
   "cell_type": "code",
   "execution_count": 103,
   "id": "bce13142",
   "metadata": {},
   "outputs": [],
   "source": [
    "def click_next_page(driver):\n",
    "    try:\n",
    "        wait = WebDriverWait(driver, 2)\n",
    "        button = wait.until(EC.presence_of_element_located((By.CSS_SELECTOR, 'button[aria-label=\"View next page\"]')))\n",
    "        \n",
    "        driver.execute_script(\"arguments[0].scrollIntoView({block: 'center'});\", button)\n",
    "        button.click()\n",
    "        \n",
    "    except Exception:\n",
    "        print('Already on the last page or button not clickable.')\n",
    "        return -1"
   ]
  },
  {
   "cell_type": "code",
   "execution_count": null,
   "id": "24d6db31",
   "metadata": {},
   "outputs": [],
   "source": []
  }
 ],
 "metadata": {
  "kernelspec": {
   "display_name": ".venv",
   "language": "python",
   "name": "python3"
  },
  "language_info": {
   "codemirror_mode": {
    "name": "ipython",
    "version": 3
   },
   "file_extension": ".py",
   "mimetype": "text/x-python",
   "name": "python",
   "nbconvert_exporter": "python",
   "pygments_lexer": "ipython3",
   "version": "3.12.9"
  }
 },
 "nbformat": 4,
 "nbformat_minor": 5
}
