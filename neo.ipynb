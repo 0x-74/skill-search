{
 "cells": [
  {
   "cell_type": "code",
   "execution_count": 11,
   "id": "2b1b2512",
   "metadata": {},
   "outputs": [
    {
     "data": {
      "text/html": [
       "\n",
       "        <iframe\n",
       "            width=\"100%\"\n",
       "            height=\"750\"\n",
       "            src=\"temp.html\"\n",
       "            frameborder=\"0\"\n",
       "            allowfullscreen\n",
       "            \n",
       "        ></iframe>\n",
       "        "
      ],
      "text/plain": [
       "<IPython.lib.display.IFrame at 0x112ab4a10>"
      ]
     },
     "execution_count": 11,
     "metadata": {},
     "output_type": "execute_result"
    }
   ],
   "source": [
    "import networkx as nx\n",
    "import csv\n",
    "from pyvis.network import Network\n",
    "from IPython.display import IFrame\n",
    "\n",
    "# Create NetworkX graph\n",
    "G = nx.Graph()\n",
    "\n",
    "with open('jobs.csv', 'r', encoding='utf-8') as f:\n",
    "    reader = csv.DictReader(f)\n",
    "    for row in reader:\n",
    "        company = row[\"company\"].strip()\n",
    "        job = row[\"job_title\"].strip()\n",
    "        domain = row[\"domain\"].strip()\n",
    "        \n",
    "        G.add_edge(company, job, relation=\"HAS_JOB\")\n",
    "        G.add_edge(job, domain, relation=\"IN_DOMAIN\")\n",
    "        for skill in row[\"domain_specific_skills\"].split(\",\"):\n",
    "            skill_name = skill.strip()\n",
    "            if skill_name:\n",
    "                G.add_edge(job, skill_name, relation=\"REQUIRES_SKILL\")\n",
    "\n",
    "# Create PyVis network with physics\n",
    "net = Network(notebook=True, height='750px', width='100%', cdn_resources='remote', bgcolor='#ffffff', font_color='#333333')\n",
    "\n",
    "# Add color-coded nodes\n",
    "for node in G.nodes:\n",
    "    if node in [row[\"company\"] for row in csv.DictReader(open('structured_jobs_data.csv', 'r', encoding='utf-8'))]:\n",
    "        net.add_node(node, label=node, color=\"#1f77b4\", shape=\"ellipse\", size=30)  # Company: Blue\n",
    "    elif any(node == row[\"job_title\"] for row in csv.DictReader(open('structured_jobs_data.csv', 'r', encoding='utf-8'))):\n",
    "        net.add_node(node, label=node, color=\"#2ca02c\", shape=\"box\", size=25)  # Job: Green\n",
    "    elif any(node == row[\"domain\"] for row in csv.DictReader(open('structured_jobs_data.csv', 'r', encoding='utf-8'))):\n",
    "        net.add_node(node, label=node, color=\"#ff7f0e\", shape=\"diamond\", size=20)  # Domain: Orange\n",
    "    else:\n",
    "        net.add_node(node, label=node, color=\"#9467bd\", shape=\"dot\", size=15)  # Skill: Purple\n",
    "\n",
    "# Add edges\n",
    "for u, v, data in G.edges(data=True):\n",
    "    net.add_edge(u, v, label=data['relation'], color=\"#888888\")\n",
    "\n",
    "# Improve layout - avoid overlap\n",
    "net.repulsion(node_distance=200, central_gravity=0.3, spring_length=150, spring_strength=0.05)\n",
    "\n",
    "# Save graph and display in notebook\n",
    "net.save_graph(\"graph.html\")\n",
    "IFrame(\"temp.html\", width=\"100%\", height=\"750\")\n"
   ]
  },
  {
   "cell_type": "code",
   "execution_count": null,
   "id": "31aecd7a",
   "metadata": {},
   "outputs": [],
   "source": []
  }
 ],
 "metadata": {
  "kernelspec": {
   "display_name": "skill-search (3.11.13)",
   "language": "python",
   "name": "python3"
  },
  "language_info": {
   "codemirror_mode": {
    "name": "ipython",
    "version": 3
   },
   "file_extension": ".py",
   "mimetype": "text/x-python",
   "name": "python",
   "nbconvert_exporter": "python",
   "pygments_lexer": "ipython3",
   "version": "3.11.13"
  }
 },
 "nbformat": 4,
 "nbformat_minor": 5
}
